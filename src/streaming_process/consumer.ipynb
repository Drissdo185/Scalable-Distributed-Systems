{
 "cells": [
  {
   "cell_type": "code",
   "execution_count": 1,
   "metadata": {},
   "outputs": [
    {
     "name": "stderr",
     "output_type": "stream",
     "text": [
      "24/12/27 13:57:02 WARN Utils: Your hostname, dtdat resolves to a loopback address: 127.0.1.1; using 192.168.2.12 instead (on interface wlp0s20f3)\n",
      "24/12/27 13:57:02 WARN Utils: Set SPARK_LOCAL_IP if you need to bind to another address\n",
      "Setting default log level to \"WARN\".\n",
      "To adjust logging level use sc.setLogLevel(newLevel). For SparkR, use setLogLevel(newLevel).\n",
      "24/12/27 13:57:02 WARN NativeCodeLoader: Unable to load native-hadoop library for your platform... using builtin-java classes where applicable\n"
     ]
    }
   ],
   "source": [
    "from kafka import KafkaConsumer\n",
    "import json\n",
    "from pyspark.sql import SparkSession\n",
    "from pyspark.ml.feature import Imputer, StringIndexer, OneHotEncoder, VectorAssembler, StandardScaler\n",
    "from pyspark.ml import Pipeline, PipelineModel\n",
    "from pyspark.sql.types import StructType, StructField, DoubleType, StringType, IntegerType\n",
    "\n",
    "# Initialize Spark session\n",
    "spark = SparkSession.builder \\\n",
    "    .appName(\"LoanPredictionConsumer\") \\\n",
    "    .getOrCreate()"
   ]
  },
  {
   "cell_type": "code",
   "execution_count": 2,
   "metadata": {},
   "outputs": [
    {
     "data": {
      "text/html": [
       "\n",
       "            <div>\n",
       "                <p><b>SparkSession - in-memory</b></p>\n",
       "                \n",
       "        <div>\n",
       "            <p><b>SparkContext</b></p>\n",
       "\n",
       "            <p><a href=\"http://192.168.2.12:4040\">Spark UI</a></p>\n",
       "\n",
       "            <dl>\n",
       "              <dt>Version</dt>\n",
       "                <dd><code>v3.5.3</code></dd>\n",
       "              <dt>Master</dt>\n",
       "                <dd><code>local[*]</code></dd>\n",
       "              <dt>AppName</dt>\n",
       "                <dd><code>LoanPredictionConsumer</code></dd>\n",
       "            </dl>\n",
       "        </div>\n",
       "        \n",
       "            </div>\n",
       "        "
      ],
      "text/plain": [
       "<pyspark.sql.session.SparkSession at 0x7c3af0e5ad50>"
      ]
     },
     "execution_count": 2,
     "metadata": {},
     "output_type": "execute_result"
    }
   ],
   "source": [
    "spark"
   ]
  },
  {
   "cell_type": "code",
   "execution_count": 3,
   "metadata": {},
   "outputs": [],
   "source": [
    "schema = StructType([\n",
    "    StructField(\"LoanID\", StringType(), True),\n",
    "    StructField(\"Age\", IntegerType(), True),\n",
    "    StructField(\"Income\", IntegerType(), True),\n",
    "    StructField(\"LoanAmount\", IntegerType(), True),\n",
    "    StructField(\"CreditScore\", IntegerType(), True),\n",
    "    StructField(\"MonthsEmployed\", IntegerType(), True),\n",
    "    StructField(\"NumCreditLines\", IntegerType(), True),\n",
    "    StructField(\"InterestRate\", DoubleType(), True),\n",
    "    StructField(\"LoanTerm\", IntegerType(), True),\n",
    "    StructField(\"DTIRatio\", DoubleType(), True),\n",
    "    StructField(\"Education\", StringType(), True),\n",
    "    StructField(\"EmploymentType\", StringType(), True),\n",
    "    StructField(\"MaritalStatus\", StringType(), True),\n",
    "    StructField(\"HasMortgage\", StringType(), True),\n",
    "    StructField(\"HasDependents\", StringType(), True),\n",
    "    StructField(\"LoanPurpose\", StringType(), True),\n",
    "    StructField(\"HasCoSigner\", StringType(), True),\n",
    "    StructField(\"Default\", IntegerType(), True)\n",
    "])"
   ]
  },
  {
   "cell_type": "code",
   "execution_count": 4,
   "metadata": {},
   "outputs": [],
   "source": [
    "consumer = KafkaConsumer(\n",
    "    'loan_application',\n",
    "    bootstrap_servers='localhost:9092',\n",
    "    auto_offset_reset='earliest',\n",
    "    enable_auto_commit=True,\n",
    "    value_deserializer=lambda x: json.loads(x.decode('utf-8'))\n",
    ")"
   ]
  },
  {
   "cell_type": "code",
   "execution_count": 5,
   "metadata": {},
   "outputs": [],
   "source": [
    "from pyspark.ml.classification import LogisticRegressionModel\n",
    "model_path = \"/home/drissdo/Desktop/Scalable-Distributed-Systems/ML/model\"\n",
    "lr_model = LogisticRegressionModel.load(model_path)"
   ]
  },
  {
   "cell_type": "code",
   "execution_count": 6,
   "metadata": {},
   "outputs": [],
   "source": [
    "def convert_data(loan_data):\n",
    "    education_map = {'High School':1, 'Bachelor':0, 'Master':2, 'PhD':3}\n",
    "    employment_map = {'Full-time':3, 'Part-time':0, 'Self-employed':2, 'Unemployed':1}\n",
    "    marital_status_map = {'Single': 2, 'Married': 0, 'Divorced': 1}\n",
    "    has_mortgage_map = {'Yes': 1, 'No': 0}\n",
    "    has_dependents_map = {'Yes': 1, 'No': 0}\n",
    "    loan_purpose_map = {'Home':1, 'Other': 3, 'Education':2, 'Business':0, 'Auto': 4}\n",
    "    has_cosigner_map = {'Yes': 1, 'No': 0}\n",
    "    \n",
    "    loan_data['Education'] = education_map[loan_data['Education']]\n",
    "    loan_data['EmploymentType'] = employment_map[loan_data['EmploymentType']]\n",
    "    loan_data['MaritalStatus'] = marital_status_map[loan_data['MaritalStatus']]\n",
    "    loan_data['HasMortgage'] = has_mortgage_map[loan_data['HasMortgage']]\n",
    "    loan_data['HasDependents'] = has_dependents_map[loan_data['HasDependents']]\n",
    "    loan_data['LoanPurpose'] = loan_purpose_map[loan_data['LoanPurpose']]\n",
    "    loan_data['HasCoSigner'] = has_cosigner_map[loan_data['HasCoSigner']]\n",
    "    \n",
    "    \n",
    "    data = df = spark.createDataFrame([loan_data])\n",
    "    numerical_cols = [\n",
    "        \"Age\", \"Income\", \"LoanAmount\", \"CreditScore\", \"MonthsEmployed\",\n",
    "        \"NumCreditLines\", \"InterestRate\", \"LoanTerm\", \"DTIRatio\"\n",
    "    ]\n",
    "\n",
    "    assembler = VectorAssembler(inputCols=numerical_cols, outputCol=\"features\")\n",
    "    loan_data_assembled = assembler.transform(data)\n",
    "\n",
    "    scaler = StandardScaler(inputCol=\"features\", outputCol=\"scaled_features\", withStd=True, withMean=True)\n",
    "    scaler_model = scaler.fit(loan_data_assembled)\n",
    "    loan_data_scaled = scaler_model.transform(loan_data_assembled)\n",
    "    \n",
    "    \n",
    "    return loan_data_scaled\n",
    "    "
   ]
  },
  {
   "cell_type": "code",
   "execution_count": 7,
   "metadata": {},
   "outputs": [
    {
     "name": "stderr",
     "output_type": "stream",
     "text": [
      "                                                                                \r"
     ]
    },
    {
     "name": "stdout",
     "output_type": "stream",
     "text": [
      "\n",
      "Received Loan Application:\n",
      "Loan ID: 8ede67bd-c402-40e2-8aa8-d0c7dc70ff1c\n",
      "Amount: $73068\n",
      "Purpose: 3\n"
     ]
    },
    {
     "name": "stderr",
     "output_type": "stream",
     "text": [
      "24/12/27 13:57:08 WARN InstanceBuilder: Failed to load implementation from:dev.ludovic.netlib.blas.VectorBLAS\n"
     ]
    },
    {
     "name": "stdout",
     "output_type": "stream",
     "text": [
      "Result: Non Accept\n",
      "--------------------------------------------------\n",
      "\n",
      "Received Loan Application:\n",
      "Loan ID: 8f4dcc88-4426-4f3b-90c5-c787642693c7\n",
      "Amount: $71513\n",
      "Purpose: 0\n",
      "Result: Accept\n",
      "--------------------------------------------------\n",
      "\n",
      "Received Loan Application:\n",
      "Loan ID: dbc532ec-36f2-4483-9671-6fefa38991bd\n",
      "Amount: $84949\n",
      "Purpose: 0\n",
      "Result: Accept\n",
      "--------------------------------------------------\n",
      "\n",
      "Received Loan Application:\n",
      "Loan ID: 6fc10149-d2de-4a72-a4ec-26608eca8031\n",
      "Amount: $14241\n",
      "Purpose: 2\n",
      "Result: Accept\n",
      "--------------------------------------------------\n",
      "\n",
      "Received Loan Application:\n",
      "Loan ID: 1975dfc7-e16b-4e24-8844-aea85ec989b6\n",
      "Amount: $74190\n",
      "Purpose: 0\n",
      "Result: Non Accept\n",
      "--------------------------------------------------\n",
      "\n",
      "Received Loan Application:\n",
      "Loan ID: b9c03ce6-ec48-4fce-b630-49ad2afa9ddb\n",
      "Amount: $41623\n",
      "Purpose: 1\n",
      "Result: Non Accept\n",
      "--------------------------------------------------\n",
      "\n",
      "Received Loan Application:\n",
      "Loan ID: c6a70b3d-6698-49e6-a067-893dc7e569fd\n",
      "Amount: $52261\n",
      "Purpose: 4\n",
      "Result: Non Accept\n",
      "--------------------------------------------------\n",
      "\n",
      "Received Loan Application:\n",
      "Loan ID: 8402818d-0920-4a05-8d84-b49c5854bfed\n",
      "Amount: $8651\n",
      "Purpose: 0\n",
      "Result: Non Accept\n",
      "--------------------------------------------------\n",
      "\n",
      "Received Loan Application:\n",
      "Loan ID: 1b1665fd-319e-456f-a09b-5c3d3c395b13\n",
      "Amount: $55343\n",
      "Purpose: 4\n",
      "Result: Accept\n",
      "--------------------------------------------------\n",
      "\n",
      "Received Loan Application:\n",
      "Loan ID: 8024723f-87c9-4396-81fe-37bda41a2338\n",
      "Amount: $10815\n",
      "Purpose: 1\n",
      "Result: Accept\n",
      "--------------------------------------------------\n",
      "\n",
      "Received Loan Application:\n",
      "Loan ID: 292859d6-1922-440f-b2e7-9dfa3da2b4ab\n",
      "Amount: $70297\n",
      "Purpose: 1\n",
      "Result: Accept\n",
      "--------------------------------------------------\n"
     ]
    },
    {
     "name": "stderr",
     "output_type": "stream",
     "text": [
      "24/12/27 13:57:16 WARN GarbageCollectionMetrics: To enable non-built-in garbage collector(s) List(G1 Concurrent GC), users should configure it(them) to spark.eventLog.gcMetrics.youngGenerationGarbageCollectors or spark.eventLog.gcMetrics.oldGenerationGarbageCollectors\n"
     ]
    },
    {
     "name": "stdout",
     "output_type": "stream",
     "text": [
      "\n",
      "Received Loan Application:\n",
      "Loan ID: f0870f54-d1d4-4afd-8d6c-d36561b06728\n",
      "Amount: $82797\n",
      "Purpose: 1\n",
      "Result: Accept\n",
      "--------------------------------------------------\n",
      "\n",
      "Received Loan Application:\n",
      "Loan ID: a93df5e4-f186-4437-bbd1-f1892056f088\n",
      "Amount: $85263\n",
      "Purpose: 3\n",
      "Result: Accept\n",
      "--------------------------------------------------\n",
      "\n",
      "Received Loan Application:\n",
      "Loan ID: 99349f93-dd0c-468f-9504-9cb4403ddc2d\n",
      "Amount: $24810\n",
      "Purpose: 4\n",
      "Result: Accept\n",
      "--------------------------------------------------\n",
      "\n",
      "Received Loan Application:\n",
      "Loan ID: 9eac3303-3399-493d-a190-89eafc7c1a8d\n",
      "Amount: $98629\n",
      "Purpose: 1\n",
      "Result: Non Accept\n",
      "--------------------------------------------------\n",
      "\n",
      "Received Loan Application:\n",
      "Loan ID: a6f3d1a8-9ad7-4c71-9852-567982ad110d\n",
      "Amount: $20941\n",
      "Purpose: 2\n",
      "Result: Non Accept\n",
      "--------------------------------------------------\n",
      "\n",
      "Received Loan Application:\n",
      "Loan ID: 9e314b3f-d847-493c-9775-35ca3e28cae8\n",
      "Amount: $33543\n",
      "Purpose: 1\n",
      "Result: Non Accept\n",
      "--------------------------------------------------\n",
      "\n",
      "Received Loan Application:\n",
      "Loan ID: a7ff128d-833c-452f-b599-fc0463636c43\n",
      "Amount: $90059\n",
      "Purpose: 2\n",
      "Result: Non Accept\n",
      "--------------------------------------------------\n",
      "\n",
      "Received Loan Application:\n",
      "Loan ID: c8b4a80c-2125-401e-9c15-a44c2444ef41\n",
      "Amount: $84953\n",
      "Purpose: 4\n",
      "Result: Non Accept\n",
      "--------------------------------------------------\n",
      "\n",
      "Received Loan Application:\n",
      "Loan ID: 12ed2b45-f91c-459c-ac5d-64de82b57480\n",
      "Amount: $75686\n",
      "Purpose: 1\n",
      "Result: Accept\n",
      "--------------------------------------------------\n",
      "\n",
      "Received Loan Application:\n",
      "Loan ID: ee44208b-d1ed-4f6c-951d-a1e28ae92978\n",
      "Amount: $20812\n",
      "Purpose: 4\n"
     ]
    },
    {
     "name": "stderr",
     "output_type": "stream",
     "text": [
      "ERROR:root:KeyboardInterrupt while sending command.\n",
      "Traceback (most recent call last):\n",
      "  File \"/home/drissdo/Desktop/Scalable-Distributed-Systems/venv/lib/python3.11/site-packages/py4j/java_gateway.py\", line 1038, in send_command\n",
      "    response = connection.send_command(command)\n",
      "               ^^^^^^^^^^^^^^^^^^^^^^^^^^^^^^^^\n",
      "  File \"/home/drissdo/Desktop/Scalable-Distributed-Systems/venv/lib/python3.11/site-packages/py4j/clientserver.py\", line 511, in send_command\n",
      "    answer = smart_decode(self.stream.readline()[:-1])\n",
      "                          ^^^^^^^^^^^^^^^^^^^^^^\n",
      "  File \"/home/drissdo/anaconda3/lib/python3.11/socket.py\", line 706, in readinto\n",
      "    return self._sock.recv_into(b)\n",
      "           ^^^^^^^^^^^^^^^^^^^^^^^\n",
      "KeyboardInterrupt\n"
     ]
    },
    {
     "name": "stdout",
     "output_type": "stream",
     "text": [
      "Result: Accept\n",
      "--------------------------------------------------\n"
     ]
    },
    {
     "ename": "KeyboardInterrupt",
     "evalue": "",
     "output_type": "error",
     "traceback": [
      "\u001b[0;31m---------------------------------------------------------------------------\u001b[0m",
      "\u001b[0;31mKeyboardInterrupt\u001b[0m                         Traceback (most recent call last)",
      "Cell \u001b[0;32mIn[7], line 5\u001b[0m\n\u001b[1;32m      2\u001b[0m \u001b[38;5;28;01mfor\u001b[39;00m message \u001b[38;5;129;01min\u001b[39;00m consumer:\n\u001b[1;32m      3\u001b[0m     loan_data \u001b[38;5;241m=\u001b[39m message\u001b[38;5;241m.\u001b[39mvalue\n\u001b[0;32m----> 5\u001b[0m     predict_data \u001b[38;5;241m=\u001b[39m \u001b[43mconvert_data\u001b[49m\u001b[43m(\u001b[49m\u001b[43mloan_data\u001b[49m\u001b[38;5;241;43m=\u001b[39;49m\u001b[43m \u001b[49m\u001b[43mloan_data\u001b[49m\u001b[43m)\u001b[49m\n\u001b[1;32m      7\u001b[0m     \u001b[38;5;28mprint\u001b[39m(\u001b[38;5;124mf\u001b[39m\u001b[38;5;124m\"\u001b[39m\u001b[38;5;130;01m\\n\u001b[39;00m\u001b[38;5;124mReceived Loan Application:\u001b[39m\u001b[38;5;124m\"\u001b[39m)\n\u001b[1;32m      8\u001b[0m     \u001b[38;5;28mprint\u001b[39m(\u001b[38;5;124mf\u001b[39m\u001b[38;5;124m\"\u001b[39m\u001b[38;5;124mLoan ID: \u001b[39m\u001b[38;5;132;01m{\u001b[39;00mloan_data[\u001b[38;5;124m'\u001b[39m\u001b[38;5;124mLoanID\u001b[39m\u001b[38;5;124m'\u001b[39m]\u001b[38;5;132;01m}\u001b[39;00m\u001b[38;5;124m\"\u001b[39m)\n",
      "Cell \u001b[0;32mIn[6], line 29\u001b[0m, in \u001b[0;36mconvert_data\u001b[0;34m(loan_data)\u001b[0m\n\u001b[1;32m     26\u001b[0m loan_data_assembled \u001b[38;5;241m=\u001b[39m assembler\u001b[38;5;241m.\u001b[39mtransform(data)\n\u001b[1;32m     28\u001b[0m scaler \u001b[38;5;241m=\u001b[39m StandardScaler(inputCol\u001b[38;5;241m=\u001b[39m\u001b[38;5;124m\"\u001b[39m\u001b[38;5;124mfeatures\u001b[39m\u001b[38;5;124m\"\u001b[39m, outputCol\u001b[38;5;241m=\u001b[39m\u001b[38;5;124m\"\u001b[39m\u001b[38;5;124mscaled_features\u001b[39m\u001b[38;5;124m\"\u001b[39m, withStd\u001b[38;5;241m=\u001b[39m\u001b[38;5;28;01mTrue\u001b[39;00m, withMean\u001b[38;5;241m=\u001b[39m\u001b[38;5;28;01mTrue\u001b[39;00m)\n\u001b[0;32m---> 29\u001b[0m scaler_model \u001b[38;5;241m=\u001b[39m \u001b[43mscaler\u001b[49m\u001b[38;5;241;43m.\u001b[39;49m\u001b[43mfit\u001b[49m\u001b[43m(\u001b[49m\u001b[43mloan_data_assembled\u001b[49m\u001b[43m)\u001b[49m\n\u001b[1;32m     30\u001b[0m loan_data_scaled \u001b[38;5;241m=\u001b[39m scaler_model\u001b[38;5;241m.\u001b[39mtransform(loan_data_assembled)\n\u001b[1;32m     33\u001b[0m \u001b[38;5;28;01mreturn\u001b[39;00m loan_data_scaled\n",
      "File \u001b[0;32m~/Desktop/Scalable-Distributed-Systems/venv/lib/python3.11/site-packages/pyspark/ml/base.py:205\u001b[0m, in \u001b[0;36mEstimator.fit\u001b[0;34m(self, dataset, params)\u001b[0m\n\u001b[1;32m    203\u001b[0m         \u001b[38;5;28;01mreturn\u001b[39;00m \u001b[38;5;28mself\u001b[39m\u001b[38;5;241m.\u001b[39mcopy(params)\u001b[38;5;241m.\u001b[39m_fit(dataset)\n\u001b[1;32m    204\u001b[0m     \u001b[38;5;28;01melse\u001b[39;00m:\n\u001b[0;32m--> 205\u001b[0m         \u001b[38;5;28;01mreturn\u001b[39;00m \u001b[38;5;28;43mself\u001b[39;49m\u001b[38;5;241;43m.\u001b[39;49m\u001b[43m_fit\u001b[49m\u001b[43m(\u001b[49m\u001b[43mdataset\u001b[49m\u001b[43m)\u001b[49m\n\u001b[1;32m    206\u001b[0m \u001b[38;5;28;01melse\u001b[39;00m:\n\u001b[1;32m    207\u001b[0m     \u001b[38;5;28;01mraise\u001b[39;00m \u001b[38;5;167;01mTypeError\u001b[39;00m(\n\u001b[1;32m    208\u001b[0m         \u001b[38;5;124m\"\u001b[39m\u001b[38;5;124mParams must be either a param map or a list/tuple of param maps, \u001b[39m\u001b[38;5;124m\"\u001b[39m\n\u001b[1;32m    209\u001b[0m         \u001b[38;5;124m\"\u001b[39m\u001b[38;5;124mbut got \u001b[39m\u001b[38;5;132;01m%s\u001b[39;00m\u001b[38;5;124m.\u001b[39m\u001b[38;5;124m\"\u001b[39m \u001b[38;5;241m%\u001b[39m \u001b[38;5;28mtype\u001b[39m(params)\n\u001b[1;32m    210\u001b[0m     )\n",
      "File \u001b[0;32m~/Desktop/Scalable-Distributed-Systems/venv/lib/python3.11/site-packages/pyspark/ml/wrapper.py:381\u001b[0m, in \u001b[0;36mJavaEstimator._fit\u001b[0;34m(self, dataset)\u001b[0m\n\u001b[1;32m    380\u001b[0m \u001b[38;5;28;01mdef\u001b[39;00m \u001b[38;5;21m_fit\u001b[39m(\u001b[38;5;28mself\u001b[39m, dataset: DataFrame) \u001b[38;5;241m-\u001b[39m\u001b[38;5;241m>\u001b[39m JM:\n\u001b[0;32m--> 381\u001b[0m     java_model \u001b[38;5;241m=\u001b[39m \u001b[38;5;28;43mself\u001b[39;49m\u001b[38;5;241;43m.\u001b[39;49m\u001b[43m_fit_java\u001b[49m\u001b[43m(\u001b[49m\u001b[43mdataset\u001b[49m\u001b[43m)\u001b[49m\n\u001b[1;32m    382\u001b[0m     model \u001b[38;5;241m=\u001b[39m \u001b[38;5;28mself\u001b[39m\u001b[38;5;241m.\u001b[39m_create_model(java_model)\n\u001b[1;32m    383\u001b[0m     \u001b[38;5;28;01mreturn\u001b[39;00m \u001b[38;5;28mself\u001b[39m\u001b[38;5;241m.\u001b[39m_copyValues(model)\n",
      "File \u001b[0;32m~/Desktop/Scalable-Distributed-Systems/venv/lib/python3.11/site-packages/pyspark/ml/wrapper.py:378\u001b[0m, in \u001b[0;36mJavaEstimator._fit_java\u001b[0;34m(self, dataset)\u001b[0m\n\u001b[1;32m    375\u001b[0m \u001b[38;5;28;01massert\u001b[39;00m \u001b[38;5;28mself\u001b[39m\u001b[38;5;241m.\u001b[39m_java_obj \u001b[38;5;129;01mis\u001b[39;00m \u001b[38;5;129;01mnot\u001b[39;00m \u001b[38;5;28;01mNone\u001b[39;00m\n\u001b[1;32m    377\u001b[0m \u001b[38;5;28mself\u001b[39m\u001b[38;5;241m.\u001b[39m_transfer_params_to_java()\n\u001b[0;32m--> 378\u001b[0m \u001b[38;5;28;01mreturn\u001b[39;00m \u001b[38;5;28;43mself\u001b[39;49m\u001b[38;5;241;43m.\u001b[39;49m\u001b[43m_java_obj\u001b[49m\u001b[38;5;241;43m.\u001b[39;49m\u001b[43mfit\u001b[49m\u001b[43m(\u001b[49m\u001b[43mdataset\u001b[49m\u001b[38;5;241;43m.\u001b[39;49m\u001b[43m_jdf\u001b[49m\u001b[43m)\u001b[49m\n",
      "File \u001b[0;32m~/Desktop/Scalable-Distributed-Systems/venv/lib/python3.11/site-packages/py4j/java_gateway.py:1321\u001b[0m, in \u001b[0;36mJavaMember.__call__\u001b[0;34m(self, *args)\u001b[0m\n\u001b[1;32m   1314\u001b[0m args_command, temp_args \u001b[38;5;241m=\u001b[39m \u001b[38;5;28mself\u001b[39m\u001b[38;5;241m.\u001b[39m_build_args(\u001b[38;5;241m*\u001b[39margs)\n\u001b[1;32m   1316\u001b[0m command \u001b[38;5;241m=\u001b[39m proto\u001b[38;5;241m.\u001b[39mCALL_COMMAND_NAME \u001b[38;5;241m+\u001b[39m\\\n\u001b[1;32m   1317\u001b[0m     \u001b[38;5;28mself\u001b[39m\u001b[38;5;241m.\u001b[39mcommand_header \u001b[38;5;241m+\u001b[39m\\\n\u001b[1;32m   1318\u001b[0m     args_command \u001b[38;5;241m+\u001b[39m\\\n\u001b[1;32m   1319\u001b[0m     proto\u001b[38;5;241m.\u001b[39mEND_COMMAND_PART\n\u001b[0;32m-> 1321\u001b[0m answer \u001b[38;5;241m=\u001b[39m \u001b[38;5;28;43mself\u001b[39;49m\u001b[38;5;241;43m.\u001b[39;49m\u001b[43mgateway_client\u001b[49m\u001b[38;5;241;43m.\u001b[39;49m\u001b[43msend_command\u001b[49m\u001b[43m(\u001b[49m\u001b[43mcommand\u001b[49m\u001b[43m)\u001b[49m\n\u001b[1;32m   1322\u001b[0m return_value \u001b[38;5;241m=\u001b[39m get_return_value(\n\u001b[1;32m   1323\u001b[0m     answer, \u001b[38;5;28mself\u001b[39m\u001b[38;5;241m.\u001b[39mgateway_client, \u001b[38;5;28mself\u001b[39m\u001b[38;5;241m.\u001b[39mtarget_id, \u001b[38;5;28mself\u001b[39m\u001b[38;5;241m.\u001b[39mname)\n\u001b[1;32m   1325\u001b[0m \u001b[38;5;28;01mfor\u001b[39;00m temp_arg \u001b[38;5;129;01min\u001b[39;00m temp_args:\n",
      "File \u001b[0;32m~/Desktop/Scalable-Distributed-Systems/venv/lib/python3.11/site-packages/py4j/java_gateway.py:1038\u001b[0m, in \u001b[0;36mGatewayClient.send_command\u001b[0;34m(self, command, retry, binary)\u001b[0m\n\u001b[1;32m   1036\u001b[0m connection \u001b[38;5;241m=\u001b[39m \u001b[38;5;28mself\u001b[39m\u001b[38;5;241m.\u001b[39m_get_connection()\n\u001b[1;32m   1037\u001b[0m \u001b[38;5;28;01mtry\u001b[39;00m:\n\u001b[0;32m-> 1038\u001b[0m     response \u001b[38;5;241m=\u001b[39m \u001b[43mconnection\u001b[49m\u001b[38;5;241;43m.\u001b[39;49m\u001b[43msend_command\u001b[49m\u001b[43m(\u001b[49m\u001b[43mcommand\u001b[49m\u001b[43m)\u001b[49m\n\u001b[1;32m   1039\u001b[0m     \u001b[38;5;28;01mif\u001b[39;00m binary:\n\u001b[1;32m   1040\u001b[0m         \u001b[38;5;28;01mreturn\u001b[39;00m response, \u001b[38;5;28mself\u001b[39m\u001b[38;5;241m.\u001b[39m_create_connection_guard(connection)\n",
      "File \u001b[0;32m~/Desktop/Scalable-Distributed-Systems/venv/lib/python3.11/site-packages/py4j/clientserver.py:511\u001b[0m, in \u001b[0;36mClientServerConnection.send_command\u001b[0;34m(self, command)\u001b[0m\n\u001b[1;32m    509\u001b[0m \u001b[38;5;28;01mtry\u001b[39;00m:\n\u001b[1;32m    510\u001b[0m     \u001b[38;5;28;01mwhile\u001b[39;00m \u001b[38;5;28;01mTrue\u001b[39;00m:\n\u001b[0;32m--> 511\u001b[0m         answer \u001b[38;5;241m=\u001b[39m smart_decode(\u001b[38;5;28mself\u001b[39m\u001b[38;5;241m.\u001b[39mstream\u001b[38;5;241m.\u001b[39mreadline()[:\u001b[38;5;241m-\u001b[39m\u001b[38;5;241m1\u001b[39m])\n\u001b[1;32m    512\u001b[0m         logger\u001b[38;5;241m.\u001b[39mdebug(\u001b[38;5;124m\"\u001b[39m\u001b[38;5;124mAnswer received: \u001b[39m\u001b[38;5;132;01m{0}\u001b[39;00m\u001b[38;5;124m\"\u001b[39m\u001b[38;5;241m.\u001b[39mformat(answer))\n\u001b[1;32m    513\u001b[0m         \u001b[38;5;66;03m# Happens when a the other end is dead. There might be an empty\u001b[39;00m\n\u001b[1;32m    514\u001b[0m         \u001b[38;5;66;03m# answer before the socket raises an error.\u001b[39;00m\n",
      "File \u001b[0;32m~/anaconda3/lib/python3.11/socket.py:706\u001b[0m, in \u001b[0;36mSocketIO.readinto\u001b[0;34m(self, b)\u001b[0m\n\u001b[1;32m    704\u001b[0m \u001b[38;5;28;01mwhile\u001b[39;00m \u001b[38;5;28;01mTrue\u001b[39;00m:\n\u001b[1;32m    705\u001b[0m     \u001b[38;5;28;01mtry\u001b[39;00m:\n\u001b[0;32m--> 706\u001b[0m         \u001b[38;5;28;01mreturn\u001b[39;00m \u001b[38;5;28;43mself\u001b[39;49m\u001b[38;5;241;43m.\u001b[39;49m\u001b[43m_sock\u001b[49m\u001b[38;5;241;43m.\u001b[39;49m\u001b[43mrecv_into\u001b[49m\u001b[43m(\u001b[49m\u001b[43mb\u001b[49m\u001b[43m)\u001b[49m\n\u001b[1;32m    707\u001b[0m     \u001b[38;5;28;01mexcept\u001b[39;00m timeout:\n\u001b[1;32m    708\u001b[0m         \u001b[38;5;28mself\u001b[39m\u001b[38;5;241m.\u001b[39m_timeout_occurred \u001b[38;5;241m=\u001b[39m \u001b[38;5;28;01mTrue\u001b[39;00m\n",
      "\u001b[0;31mKeyboardInterrupt\u001b[0m: "
     ]
    }
   ],
   "source": [
    "import random\n",
    "for message in consumer:\n",
    "    loan_data = message.value\n",
    "    \n",
    "    predict_data = convert_data(loan_data= loan_data)\n",
    "    \n",
    "    print(f\"\\nReceived Loan Application:\")\n",
    "    print(f\"Loan ID: {loan_data['LoanID']}\")\n",
    "    print(f\"Amount: ${loan_data['LoanAmount']}\")\n",
    "    print(f\"Purpose: {loan_data['LoanPurpose']}\")\n",
    "    \n",
    "    lr_predictions = lr_model.transform(predict_data)\n",
    "    \n",
    "    prediction_value = lr_predictions.select(\"prediction\").collect()[0][\"prediction\"]\n",
    "    \n",
    "    if prediction_value == 1:\n",
    "        print(\"Result: Accept\")\n",
    "    else:\n",
    "        print(\"Result: Non Accept\")\n",
    "    \n",
    "    print(\"-\" * 50)\n",
    "    \n",
    "\n",
    "    \n",
    "    "
   ]
  }
 ],
 "metadata": {
  "kernelspec": {
   "display_name": "venv",
   "language": "python",
   "name": "python3"
  },
  "language_info": {
   "codemirror_mode": {
    "name": "ipython",
    "version": 3
   },
   "file_extension": ".py",
   "mimetype": "text/x-python",
   "name": "python",
   "nbconvert_exporter": "python",
   "pygments_lexer": "ipython3",
   "version": "3.11.7"
  }
 },
 "nbformat": 4,
 "nbformat_minor": 2
}

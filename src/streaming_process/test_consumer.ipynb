{
 "cells": [
  {
   "cell_type": "code",
   "execution_count": 6,
   "metadata": {},
   "outputs": [],
   "source": [
    "from kafka import KafkaConsumer\n",
    "from pyspark.ml.classification import LogisticRegressionModel\n",
    "from pyspark.sql import SparkSession\n",
    "from pyspark.ml.linalg import Vectors\n",
    "import json\n",
    "\n",
    "# Initialize Spark session\n",
    "spark = SparkSession.builder \\\n",
    "    .appName(\"LoanPredictionConsumer\") \\\n",
    "    .getOrCreate()\n",
    "\n",
    "# Load the saved model\n",
    "model_path = \"/home/drissdo/Desktop/Scalable-Distributed-Systems/loan_default_lr_model\"\n",
    "lr_model = LogisticRegressionModel.load(model_path)\n",
    "\n",
    "# Initialize Kafka Consumer\n",
    "consumer = KafkaConsumer(\n",
    "    'loan_application',\n",
    "    bootstrap_servers='localhost:9092',\n",
    "    auto_offset_reset='earliest',\n",
    "    enable_auto_commit=True,\n",
    "    value_deserializer=lambda x: json.loads(x.decode('utf-8'))\n",
    ")\n",
    "\n",
    "\n"
   ]
  },
  {
   "cell_type": "code",
   "execution_count": 7,
   "metadata": {},
   "outputs": [
    {
     "name": "stdout",
     "output_type": "stream",
     "text": [
      "Waiting for messages...\n",
      "Received loan application: {'LoanID': 'd9ff10c8-d680-41bb-acd5-5eef3dfa0d77', 'Age': 23, 'Income': 84831, 'LoanAmount': 22718, 'CreditScore': 522, 'MonthsEmployed': 523, 'NumCreditLines': 2, 'InterestRate': 6.1867766499018115, 'LoanTerm': 29, 'DTIRatio': 59.098165404213745}\n",
      "LoanID: d9ff10c8-d680-41bb-acd5-5eef3dfa0d77 \n",
      " Prediction: 1.0\n",
      "Prediction: The borrower did not repay the loan as agreed.\n",
      "Received loan application: {'LoanID': 'dfa136f1-63c7-40e7-b6c9-2b0f92fb51aa', 'Age': 86, 'Income': 33576, 'LoanAmount': 24060, 'CreditScore': 428, 'MonthsEmployed': 545, 'NumCreditLines': 14, 'InterestRate': 9.84291660839014, 'LoanTerm': 129, 'DTIRatio': 17.7982062890092}\n",
      "LoanID: dfa136f1-63c7-40e7-b6c9-2b0f92fb51aa \n",
      " Prediction: 0.0\n",
      "Prediction: The borrower successfully repaid the loan as per the terms of the agreement.\n",
      "Received loan application: {'LoanID': '117157bc-3b61-4734-825e-e6e702552348', 'Age': 38, 'Income': 57590, 'LoanAmount': 5449, 'CreditScore': 724, 'MonthsEmployed': 522, 'NumCreditLines': 10, 'InterestRate': 29.55256607047043, 'LoanTerm': 143, 'DTIRatio': 12.401560435838066}\n",
      "LoanID: 117157bc-3b61-4734-825e-e6e702552348 \n",
      " Prediction: 0.0\n",
      "Prediction: The borrower successfully repaid the loan as per the terms of the agreement.\n",
      "Received loan application: {'LoanID': '18c9533c-294e-43e3-a296-48b5a18da772', 'Age': 79, 'Income': 77860, 'LoanAmount': 15474, 'CreditScore': 754, 'MonthsEmployed': 205, 'NumCreditLines': 19, 'InterestRate': 12.045596840907608, 'LoanTerm': 315, 'DTIRatio': 84.76682804631425}\n",
      "LoanID: 18c9533c-294e-43e3-a296-48b5a18da772 \n",
      " Prediction: 1.0\n",
      "Prediction: The borrower did not repay the loan as agreed.\n",
      "\n",
      "Stopping consumer...\n"
     ]
    }
   ],
   "source": [
    "def preprocess_loan_data(loan_data):\n",
    "    \"\"\"\n",
    "    Preprocess the loan data to extract features for prediction.\n",
    "    The order of features must match the training data.\n",
    "    \"\"\"\n",
    "    features = [\n",
    "        loan_data['Age'],\n",
    "        loan_data['Income'],\n",
    "        loan_data['LoanAmount'],\n",
    "        loan_data['CreditScore'],\n",
    "        loan_data['MonthsEmployed'],\n",
    "        loan_data['NumCreditLines'],\n",
    "        loan_data['InterestRate'],\n",
    "        loan_data['LoanTerm'],\n",
    "        loan_data['DTIRatio']\n",
    "    ]\n",
    "    return Vectors.dense(features)\n",
    "\n",
    "print(\"Waiting for messages...\")\n",
    "try:\n",
    "    for message in consumer:\n",
    "        loan_data = message.value\n",
    "        print(f\"Received loan application: {loan_data}\")\n",
    "        \n",
    "        # Preprocess the loan data\n",
    "        features = preprocess_loan_data(loan_data)\n",
    "        \n",
    "        # Create a Spark DataFrame for prediction\n",
    "        loan_df = spark.createDataFrame([(features, )], [\"features\"])\n",
    "        \n",
    "        # Predict using the logistic regression model\n",
    "        predictions = lr_model.transform(loan_df)\n",
    "        \n",
    "        for row in predictions.collect():\n",
    "            print(f\"LoanID: {loan_data['LoanID']} \\n Prediction: {row.prediction}\")\n",
    "        if row.prediction == 1:\n",
    "            print(\"Prediction: The borrower did not repay the loan as agreed.\")\n",
    "        else:\n",
    "            print(\"Prediction: The borrower successfully repaid the loan as per the terms of the agreement.\")\n",
    "except KeyboardInterrupt:\n",
    "    print(\"\\nStopping consumer...\")\n",
    "finally:\n",
    "    consumer.close()\n",
    "    spark.stop()"
   ]
  }
 ],
 "metadata": {
  "kernelspec": {
   "display_name": "venv",
   "language": "python",
   "name": "python3"
  },
  "language_info": {
   "codemirror_mode": {
    "name": "ipython",
    "version": 3
   },
   "file_extension": ".py",
   "mimetype": "text/x-python",
   "name": "python",
   "nbconvert_exporter": "python",
   "pygments_lexer": "ipython3",
   "version": "3.11.7"
  }
 },
 "nbformat": 4,
 "nbformat_minor": 2
}
